{
  "nbformat": 4,
  "nbformat_minor": 0,
  "metadata": {
    "colab": {
      "name": "Praca_v1.ipynb",
      "provenance": [],
      "toc_visible": true,
      "authorship_tag": "ABX9TyOV1od2bHhxvc/z9IxiyJrY",
      "include_colab_link": true
    },
    "kernelspec": {
      "name": "python3",
      "display_name": "Python 3"
    }
  },
  "cells": [
    {
      "cell_type": "markdown",
      "metadata": {
        "id": "view-in-github",
        "colab_type": "text"
      },
      "source": [
        "<a href=\"https://colab.research.google.com/github/MazonSzymon/modelowanie_cen_akcji_spolek/blob/main/Praca_v1.ipynb\" target=\"_parent\"><img src=\"https://colab.research.google.com/assets/colab-badge.svg\" alt=\"Open In Colab\"/></a>"
      ]
    },
    {
      "cell_type": "markdown",
      "metadata": {
        "id": "tPSl1UKMWCKw"
      },
      "source": [
        "\n",
        "#  ***Modelowanie  cen  (zwrotów  ceny)  akcji  spółek:  Alior Bank, mBank, Dino Polska, CD Projekt  przy  użyciu  modeli szeregów czasowych ARMA, ARIMA*** \n",
        "\n",
        "---"
      ]
    },
    {
      "cell_type": "markdown",
      "metadata": {
        "id": "e5-LujMNXZRX"
      },
      "source": [
        "#Libraries"
      ]
    },
    {
      "cell_type": "code",
      "metadata": {
        "id": "phVKjZ8UXYZo"
      },
      "source": [
        "import pandas as pd\n",
        "import numpy as np\n",
        "import matplotlib.pyplot as plt\n",
        "import datetime as dt\n",
        "import pandas_datareader as pdr \n",
        "%load_ext google.colab.data_table\n",
        "import math\n",
        "import fbprophet\n",
        "from scipy.stats import boxcox\n",
        "import matplotlib.dates as mdates\n",
        "from scipy.special import inv_boxcox\n",
        "from matplotlib.ticker import StrMethodFormatter\n",
        "from fbprophet.diagnostics import cross_validation\n",
        "\n",
        "#Set up plot\n",
        "from cycler import cycler\n",
        "plt.style.use('ggplot')\n",
        "plt.rc('axes', facecolor='white', edgecolor='black', grid = False, axisbelow = True)\n",
        "plt.rc('grid',color='gray', linestyle='solid', linewidth=0.5)\n",
        "plt.rc('patch', edgecolor='black')\n",
        "plt.rc('legend', shadow=True, handlelength=1, fontsize=10, edgecolor = 'black', facecolor='white')"
      ],
      "execution_count": 1,
      "outputs": []
    },
    {
      "cell_type": "markdown",
      "metadata": {
        "id": "mWhEZev9XpG3"
      },
      "source": [
        "# Stooq data"
      ]
    },
    {
      "cell_type": "markdown",
      "metadata": {
        "id": "HLYeEBlab9vv"
      },
      "source": [
        ">## Stocks company list\n",
        "\n",
        "\n"
      ]
    },
    {
      "cell_type": "code",
      "metadata": {
        "id": "E6uL6MwrXniu"
      },
      "source": [
        "our_stocks = pd.DataFrame(np.array([\n",
        "                                    ['WI20','wig20.pl'],\n",
        "                                    ['Alior Bank','alr.pl'],\n",
        "                                    ['CD Projekt', 'cdr.pl'],\n",
        "                                    ['Dino Polska', 'dnp.pl'],\n",
        "                                    ['mBank', 'mbk.pl']\n",
        "]), columns = ['Full_name','Stoq_name'])"
      ],
      "execution_count": 15,
      "outputs": []
    },
    {
      "cell_type": "markdown",
      "metadata": {
        "id": "m0MBRQ14dFyX"
      },
      "source": [
        "\n",
        "\n",
        ">## Download data and main DataFrame functions\n",
        "\n"
      ]
    },
    {
      "cell_type": "code",
      "metadata": {
        "id": "pRjVWYLidCLa"
      },
      "source": [
        "def get_data(stock,start_date, end_date):\n",
        "  stooq_data = pdr.get_data_stooq(stock['Stoq_name'], start = start_date, end = end_date).sort_index()\n",
        "  stooq_data['Stock_name'] = stock['Full_name']\n",
        "  df = stooq_data.copy()\n",
        "  return df"
      ],
      "execution_count": 19,
      "outputs": []
    },
    {
      "cell_type": "code",
      "metadata": {
        "id": "8L-bKxpFei1I"
      },
      "source": [
        "def creat_WIG20_frame(start_date,end_date,stocks_list):\n",
        "  WIG20 = pd.DataFrame()\n",
        "  for i in range(len(stocks_list)):\n",
        "    tmp = get_data(stocks_list.iloc[i],start_date,end_date)\n",
        "    WIG20 = WIG20.append(tmp)\n",
        "  return WIG20"
      ],
      "execution_count": 17,
      "outputs": []
    },
    {
      "cell_type": "markdown",
      "metadata": {
        "id": "68NUvSBme4LH"
      },
      "source": [
        "\n",
        "\n",
        ">## Main DataFrame\n",
        "\n"
      ]
    },
    {
      "cell_type": "code",
      "metadata": {
        "id": "GK2tU3rhfP4s"
      },
      "source": [
        "start_date = dt.date(2015,1,1)\n",
        "end_date = dt.date.today()\n",
        "#df = creat_WIG20_frame(start_date,end_date,our_stocks) #API, dont run many times!"
      ],
      "execution_count": 20,
      "outputs": []
    },
    {
      "cell_type": "code",
      "metadata": {
        "id": "FiiFdJj2ghpp",
        "outputId": "2a535aa7-d7c0-4d50-fc6c-05576b57556f",
        "colab": {
          "base_uri": "https://localhost:8080/"
        }
      },
      "source": [
        "df.info()"
      ],
      "execution_count": 21,
      "outputs": [
        {
          "output_type": "stream",
          "text": [
            "<class 'pandas.core.frame.DataFrame'>\n",
            "DatetimeIndex: 6744 entries, 2015-01-02 to 2020-11-06\n",
            "Data columns (total 6 columns):\n",
            " #   Column      Non-Null Count  Dtype  \n",
            "---  ------      --------------  -----  \n",
            " 0   Open        6744 non-null   float64\n",
            " 1   High        6744 non-null   float64\n",
            " 2   Low         6744 non-null   float64\n",
            " 3   Close       6744 non-null   float64\n",
            " 4   Volume      6744 non-null   int64  \n",
            " 5   Stock_name  6744 non-null   object \n",
            "dtypes: float64(4), int64(1), object(1)\n",
            "memory usage: 368.8+ KB\n"
          ],
          "name": "stdout"
        }
      ]
    },
    {
      "cell_type": "code",
      "metadata": {
        "id": "ve6LBsh1e3jC"
      },
      "source": [
        "df.drop( columns= ['Open','High','Low','Volume'],inplace = True)\n",
        "df['Stock_name'] = df['Stock_name'].astype('category')"
      ],
      "execution_count": 24,
      "outputs": []
    },
    {
      "cell_type": "code",
      "metadata": {
        "id": "R3DjTI8Qh5F9",
        "outputId": "06ea11e8-4f34-4ba2-b214-0db66670791e",
        "colab": {
          "base_uri": "https://localhost:8080/"
        }
      },
      "source": [
        "df.info()"
      ],
      "execution_count": 25,
      "outputs": [
        {
          "output_type": "stream",
          "text": [
            "<class 'pandas.core.frame.DataFrame'>\n",
            "DatetimeIndex: 6744 entries, 2015-01-02 to 2020-11-06\n",
            "Data columns (total 2 columns):\n",
            " #   Column      Non-Null Count  Dtype   \n",
            "---  ------      --------------  -----   \n",
            " 0   Close       6744 non-null   float64 \n",
            " 1   Stock_name  6744 non-null   category\n",
            "dtypes: category(1), float64(1)\n",
            "memory usage: 112.2 KB\n"
          ],
          "name": "stdout"
        }
      ]
    }
  ]
}